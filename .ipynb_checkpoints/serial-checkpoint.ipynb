{
 "cells": [
  {
   "cell_type": "code",
   "execution_count": 1,
   "metadata": {
    "collapsed": false,
    "scrolled": true
   },
   "outputs": [
    {
     "name": "stdout",
     "output_type": "stream",
     "text": [
      "���\u000b",
      "�T�UQS�\u001f`B��\n",
      "End\n"
     ]
    }
   ],
   "source": [
    "import serial\n",
    "# import sleep\n",
    "ser = serial.Serial('COM4', 115200) #open serial port\n",
    "# print(ser.name)         # check which port was really used\n",
    "# print(int(ser.is_open()))\n",
    "st = \"hello\".encode(\"hex\")\n",
    "# for i in range(1, 5):\n",
    "# ser.write(b'\\xae')     # write a string\n",
    "ser.write(b'\\xae\\x68\\x65\\x6c\\x6c\\x68\\x65\\x6c\\x6c')\n",
    "a = ser.read(16)\n",
    "print(a)\n",
    "# ser.write(b'\\x68\\x65\\x6c\\x6c\\x68\\x65\\x6c\\x6c')\n",
    "#     ser.write(bytes(st))\n",
    "#     sleep.sleep(30)\n",
    "# ser.write(b'\\x44')     # write a string\n",
    "# ser.write(b'\\x44')     # write a string\n",
    "# ser.write(b'\\x44')     # write a string\n",
    "# ser.write(b'\\x44')     # write a string\n",
    "# ser.write(b'\\x44')     # write a string\n",
    "# a = ser.read(2)\n",
    "# print(a)\n",
    "\n",
    "ser.close()             # close port\n",
    "print(\"End\")"
   ]
  },
  {
   "cell_type": "code",
   "execution_count": null,
   "metadata": {
    "collapsed": true
   },
   "outputs": [],
   "source": []
  },
  {
   "cell_type": "code",
   "execution_count": null,
   "metadata": {
    "collapsed": true
   },
   "outputs": [],
   "source": []
  },
  {
   "cell_type": "code",
   "execution_count": null,
   "metadata": {
    "collapsed": true
   },
   "outputs": [],
   "source": []
  }
 ],
 "metadata": {
  "anaconda-cloud": {},
  "kernelspec": {
   "display_name": "Python [conda root]",
   "language": "python",
   "name": "conda-root-py"
  },
  "language_info": {
   "codemirror_mode": {
    "name": "ipython",
    "version": 2
   },
   "file_extension": ".py",
   "mimetype": "text/x-python",
   "name": "python",
   "nbconvert_exporter": "python",
   "pygments_lexer": "ipython2",
   "version": "2.7.12"
  }
 },
 "nbformat": 4,
 "nbformat_minor": 1
}
